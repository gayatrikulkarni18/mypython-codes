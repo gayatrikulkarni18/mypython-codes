{
 "cells": [
  {
   "cell_type": "code",
   "execution_count": 7,
   "id": "448d7449-065f-48df-9f24-f79ffd48f1a6",
   "metadata": {},
   "outputs": [
    {
     "name": "stdout",
     "output_type": "stream",
     "text": [
      "Downloading data from https://storage.googleapis.com/tensorflow/keras-applications/vgg16/vgg16_weights_tf_dim_ordering_tf_kernels.h5\n",
      "\u001b[1m553467096/553467096\u001b[0m \u001b[32m━━━━━━━━━━━━━━━━━━━━\u001b[0m\u001b[37m\u001b[0m \u001b[1m146s\u001b[0m 0us/step\n"
     ]
    },
    {
     "ename": "FileNotFoundError",
     "evalue": "[Errno 2] No such file or directory: 'objectdetectimage1.jpg'",
     "output_type": "error",
     "traceback": [
      "\u001b[1;31m---------------------------------------------------------------------------\u001b[0m",
      "\u001b[1;31mFileNotFoundError\u001b[0m                         Traceback (most recent call last)",
      "Cell \u001b[1;32mIn[7], line 10\u001b[0m\n\u001b[0;32m      7\u001b[0m model \u001b[38;5;241m=\u001b[39m VGG16()\n\u001b[0;32m      9\u001b[0m \u001b[38;5;66;03m# Load the image to detect objects in\u001b[39;00m\n\u001b[1;32m---> 10\u001b[0m img \u001b[38;5;241m=\u001b[39m load_img(\u001b[38;5;124m'\u001b[39m\u001b[38;5;124mobjectdetectimage1.jpg\u001b[39m\u001b[38;5;124m'\u001b[39m, target_size\u001b[38;5;241m=\u001b[39m(\u001b[38;5;241m224\u001b[39m, \u001b[38;5;241m224\u001b[39m))\n\u001b[0;32m     11\u001b[0m img_arr \u001b[38;5;241m=\u001b[39m img_to_array(img)\n\u001b[0;32m     12\u001b[0m img_arr \u001b[38;5;241m=\u001b[39m np\u001b[38;5;241m.\u001b[39mexpand_dims(img_arr, axis\u001b[38;5;241m=\u001b[39m\u001b[38;5;241m0\u001b[39m)\n",
      "File \u001b[1;32mD:\\Anaconda\\Lib\\site-packages\\keras\\src\\utils\\image_utils.py:235\u001b[0m, in \u001b[0;36mload_img\u001b[1;34m(path, color_mode, target_size, interpolation, keep_aspect_ratio)\u001b[0m\n\u001b[0;32m    233\u001b[0m     \u001b[38;5;28;01mif\u001b[39;00m \u001b[38;5;28misinstance\u001b[39m(path, pathlib\u001b[38;5;241m.\u001b[39mPath):\n\u001b[0;32m    234\u001b[0m         path \u001b[38;5;241m=\u001b[39m \u001b[38;5;28mstr\u001b[39m(path\u001b[38;5;241m.\u001b[39mresolve())\n\u001b[1;32m--> 235\u001b[0m     \u001b[38;5;28;01mwith\u001b[39;00m \u001b[38;5;28mopen\u001b[39m(path, \u001b[38;5;124m\"\u001b[39m\u001b[38;5;124mrb\u001b[39m\u001b[38;5;124m\"\u001b[39m) \u001b[38;5;28;01mas\u001b[39;00m f:\n\u001b[0;32m    236\u001b[0m         img \u001b[38;5;241m=\u001b[39m pil_image\u001b[38;5;241m.\u001b[39mopen(io\u001b[38;5;241m.\u001b[39mBytesIO(f\u001b[38;5;241m.\u001b[39mread()))\n\u001b[0;32m    237\u001b[0m \u001b[38;5;28;01melse\u001b[39;00m:\n",
      "\u001b[1;31mFileNotFoundError\u001b[0m: [Errno 2] No such file or directory: 'objectdetectimage1.jpg'"
     ]
    }
   ],
   "source": [
    "import numpy as np\n",
    "import tensorflow as tf\n",
    "from tensorflow.keras.applications.vgg16 import VGG16, preprocess_input, decode_predictions\n",
    "from tensorflow.keras.preprocessing.image import load_img, img_to_array\n",
    "\n",
    "# Load the VGG16 model\n",
    "model = VGG16()\n",
    "\n",
    "# Load the image to detect objects in\n",
    "img = load_img('objectdetectimage1.jpg', target_size=(224, 224))\n",
    "img_arr = img_to_array(img)\n",
    "img_arr = np.expand_dims(img_arr, axis=0)\n",
    "img_arr = preprocess_input(img_arr)\n",
    "\n",
    "# Predict the objects in the image\n",
    "preds = model.predict(img_arr)\n",
    "decoded_preds = decode_predictions(preds, top=3)[0]\n",
    "\n",
    "# Print the predicted objects and their probabilities\n",
    "for pred in decoded_preds:\n",
    "    print(f\"{pred[1]}: {pred[2]*100:.2f}%\")\n",
    "print(\"Gayatri Kulkarni -5300423002\")"
   ]
  },
  {
   "cell_type": "code",
   "execution_count": null,
   "id": "e4654a9c-3591-4c73-bc7a-c2f8cf778caa",
   "metadata": {},
   "outputs": [],
   "source": [
    "import tensorflow as tf\n",
    "import numpy as np\n",
    "from tensorflow.keras.preprocessing.image import load_img\n",
    "from tensorflow.keras.preprocessing.image import img_to_array\n",
    "from tensorflow.keras.applications.vgg16 import VGG16\n",
    "from tensorflow.keras.applications.vgg16 import preprocess_input\n",
    "from tensorflow.keras.applications.vgg16 import decode_predictions\n",
    "\n",
    "# Load the VGG16 model with pre-trained weights\n",
    "model = VGG16()\n",
    "\n",
    "# Load the image\n",
    "image = load_img('objectdetectimage2.jpg', target_size=(224, 224))\n",
    "\n",
    "# Convert the image to a numpy array\n",
    "image = img_to_array(image)\n",
    "\n",
    "# Reshape the image data for VGG\n",
    "image = image.reshape((1, image.shape[0], image.shape[1], image.shape[2]))\n",
    "\n",
    "# Preprocess the image\n",
    "image = preprocess_input(image)\n",
    "# Reshape the image data for VGG\n",
    "image = image.reshape((1, image.shape[0], image.shape[1], image.shape[2]))\n",
    "\n",
    "# Preprocess the image\n",
    "image = preprocess_input(image)\n",
    "\n",
    "# Make predictions on the image using the VGG model\n",
    "predictions = model.predict(image)\n",
    "\n",
    "# Decode the predictions\n",
    "decoded_predictions = decode_predictions(predictions, top=2)\n",
    "\n",
    "# Print the predictions with their probabilities\n",
    "for i, prediction in enumerate(decoded_predictions[0]):\n",
    "    print(\"Object \", i+1, \": \", prediction[1], \", Probability: \", prediction[2])\n",
    "print(\"Gayatri Kulkarni -5300423002\")"
   ]
  },
  {
   "cell_type": "code",
   "execution_count": null,
   "id": "56e96dc1-36fa-42d3-bd04-71cb8eed176c",
   "metadata": {},
   "outputs": [],
   "source": []
  }
 ],
 "metadata": {
  "kernelspec": {
   "display_name": "Python [conda env:base] *",
   "language": "python",
   "name": "conda-base-py"
  },
  "language_info": {
   "codemirror_mode": {
    "name": "ipython",
    "version": 3
   },
   "file_extension": ".py",
   "mimetype": "text/x-python",
   "name": "python",
   "nbconvert_exporter": "python",
   "pygments_lexer": "ipython3",
   "version": "3.12.7"
  }
 },
 "nbformat": 4,
 "nbformat_minor": 5
}
